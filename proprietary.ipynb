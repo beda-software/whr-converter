{
 "cells": [
  {
   "cell_type": "code",
   "execution_count": null,
   "id": "48d4a274-8c79-4d5d-98f4-158fe158b8a3",
   "metadata": {},
   "outputs": [],
   "source": [
    "import requests\n",
    "import os\n",
    "import funcy\n",
    "\n",
    "medirecords_proprietary = requests.Session()\n",
    "medirecords_proprietary.headers.update({'Authorization': os.environ['ACCESS_TOKEN']})\n",
    "practice_id = os.environ['PRACTICE_ID']\n",
    "\n",
    "def read(url):\n",
    "    resp = medirecords_proprietary.get(f'https://api.medirecords.com/v1/{url}')\n",
    "    return resp.json()\n",
    "\n",
    "def appointments(start, end):\n",
    "    return read(f\"practices/{practice_id}/appointments?appointmentDateRangeStart={start}T00:00&appointmentDateRangeEnd={end}T23:59\")\n",
    "   \n",
    "                "
   ]
  },
  {
   "cell_type": "code",
   "execution_count": null,
   "id": "d4109ba9-ac10-4bc6-8f8b-54ffe6042eed",
   "metadata": {},
   "outputs": [],
   "source": [
    "{s['id']: s['name'] for s in read(f\"practices/{practice_id}/appointment-types\")['data']}"
   ]
  },
  {
   "cell_type": "code",
   "execution_count": null,
   "id": "94c5f368-7a9a-4d02-abc4-1f06dbeb24c3",
   "metadata": {},
   "outputs": [],
   "source": [
    "[funcy.select_keys({'scheduleTime','patientId'}, a) for a in appointments(\"2025-10-15\",\"2025-10-15\")[\"data\"]]\n"
   ]
  },
  {
   "cell_type": "code",
   "execution_count": null,
   "id": "1bba9a44-e86d-4a6a-9f73-5078bea565ad",
   "metadata": {},
   "outputs": [],
   "source": [
    "appointments(\"2025-10-15\",\"2025-10-15\")"
   ]
  },
  {
   "cell_type": "code",
   "execution_count": null,
   "id": "a578c0aa-1737-4556-9ccb-856993c5ea34",
   "metadata": {},
   "outputs": [],
   "source": [
    "read(f\"patients/{patient_id}\")"
   ]
  }
 ],
 "metadata": {
  "kernelspec": {
   "display_name": "Python 3 (ipykernel)",
   "language": "python",
   "name": "python3"
  },
  "language_info": {
   "codemirror_mode": {
    "name": "ipython",
    "version": 3
   },
   "file_extension": ".py",
   "mimetype": "text/x-python",
   "name": "python",
   "nbconvert_exporter": "python",
   "pygments_lexer": "ipython3",
   "version": "3.13.5"
  }
 },
 "nbformat": 4,
 "nbformat_minor": 5
}
