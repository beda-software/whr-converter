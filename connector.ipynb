{
 "cells": [
  {
   "cell_type": "code",
   "execution_count": null,
   "id": "e3d9b2e6-1f4f-4efc-b27d-20ce3c9e3e3b",
   "metadata": {},
   "outputs": [],
   "source": [
    "import pandas as pd\n",
    "import funcy"
   ]
  },
  {
   "cell_type": "code",
   "execution_count": null,
   "id": "75895ac6-d14a-49fb-b2e5-83a12879dfb9",
   "metadata": {},
   "outputs": [],
   "source": [
    "import os\n",
    "from fhirpy import SyncFHIRClient\n",
    "whr = SyncFHIRClient(\"https://api.medirecords.com/fhir/v1\", authorization=os.environ['FHIR_ACCESS_TOKEN'])"
   ]
  },
  {
   "cell_type": "code",
   "execution_count": null,
   "id": "48d4a274-8c79-4d5d-98f4-158fe158b8a3",
   "metadata": {},
   "outputs": [],
   "source": [
    "import requests\n",
    "\n",
    "whr_custom = requests.Session()\n",
    "whr_custom.headers.update({'Authorization': os.environ['ACCESS_TOKEN']})\n",
    "practice_id = os.environ['PRACTICE_ID']\n",
    "\n",
    "def read(url):\n",
    "    resp = whr_custom.get(f'https://api.medirecords.com/v1/{url}')\n",
    "    return resp.json()\n",
    "\n",
    "def appointments(type, start, end):\n",
    "    return read(f\"practices/{practice_id}/appointments?appointmentDateRangeStart={start}T00:00&appointmentDateRangeEnd={end}T23:59\")\n",
    "    #return read(f\"practices/{practice_id}/appointments?appointmentTypeId={type}&appointmentDateRangeStart={start}T00:00&appointmentDateRangeEnd={end}T23:59\")\n",
    "\n",
    "                "
   ]
  },
  {
   "cell_type": "code",
   "execution_count": null,
   "id": "d4109ba9-ac10-4bc6-8f8b-54ffe6042eed",
   "metadata": {},
   "outputs": [],
   "source": [
    "pd.DataFrame(funcy.select_keys({'id','name'}, s) for s in read(f\"practices/{practice_id}/appointment-types\")['data'])"
   ]
  }
 ],
 "metadata": {
  "kernelspec": {
   "display_name": "Python 3 (ipykernel)",
   "language": "python",
   "name": "python3"
  },
  "language_info": {
   "codemirror_mode": {
    "name": "ipython",
    "version": 3
   },
   "file_extension": ".py",
   "mimetype": "text/x-python",
   "name": "python",
   "nbconvert_exporter": "python",
   "pygments_lexer": "ipython3",
   "version": "3.13.5"
  }
 },
 "nbformat": 4,
 "nbformat_minor": 5
}
